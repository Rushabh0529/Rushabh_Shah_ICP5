{
  "nbformat": 4,
  "nbformat_minor": 0,
  "metadata": {
    "colab": {
      "provenance": []
    },
    "kernelspec": {
      "name": "python3",
      "display_name": "Python 3"
    },
    "language_info": {
      "name": "python"
    }
  },
  "cells": [
    {
      "cell_type": "code",
      "execution_count": null,
      "metadata": {
        "colab": {
          "base_uri": "https://localhost:8080/"
        },
        "id": "9ceI-2uDUNWk",
        "outputId": "d2ccb04c-9022-4eea-d39d-1009461bcb12"
      },
      "outputs": [
        {
          "output_type": "stream",
          "name": "stdout",
          "text": [
            "Drive already mounted at /content/gdrive; to attempt to forcibly remount, call drive.mount(\"/content/gdrive\", force_remount=True).\n"
          ]
        }
      ],
      "source": [
        "from google.colab import drive\n",
        "drive.mount('/content/gdrive')\n"
      ]
    },
    {
      "cell_type": "code",
      "source": [
        "path_to_csv = '/content/gdrive/My Drive/diabetes.csv'"
      ],
      "metadata": {
        "id": "hqtjTrtRWN36"
      },
      "execution_count": null,
      "outputs": []
    },
    {
      "cell_type": "code",
      "source": [
        "import keras\n",
        "import pandas as pd\n",
        "import numpy as np\n",
        "from keras.models import Sequential\n",
        "from keras.layers import Dense, Activation\n",
        "from sklearn.model_selection import train_test_split\n",
        "\n",
        "\n",
        "dataset = pd.read_csv(path_to_csv, header=None).values\n",
        "\n",
        "X_train, X_test, Y_train, Y_test = train_test_split(dataset[:,0:8], dataset[:,8],\n",
        "                                                    test_size=0.25, random_state=87)\n",
        "np.random.seed(155)\n",
        "\n",
        "\n",
        "my_first_nn = Sequential()\n",
        "\n",
        "\n",
        "my_first_nn.add(Dense(20, input_dim=8, activation='relu'))\n",
        "my_first_nn.add(Dense(15, activation='relu'))\n",
        "my_first_nn.add(Dense(10, activation='relu'))\n",
        "\n",
        "\n",
        "my_first_nn.add(Dense(1, activation='sigmoid'))\n",
        "\n",
        "\n",
        "my_first_nn.compile(loss='binary_crossentropy', optimizer='adam', metrics=['acc'])\n",
        "\n",
        "\n",
        "my_first_nn_fitted = my_first_nn.fit(X_train, Y_train, epochs=100, initial_epoch=0)\n",
        "\n",
        "\n",
        "print(my_first_nn.summary())\n",
        "\n",
        "\n",
        "print(my_first_nn.evaluate(X_test, Y_test))\n"
      ],
      "metadata": {
        "id": "ZAXZ-p1aZAaj"
      },
      "execution_count": null,
      "outputs": []
    },
    {
      "cell_type": "code",
      "source": [
        "path_to_csv = '/content/gdrive/My Drive/breastcancer.csv'"
      ],
      "metadata": {
        "id": "Mgg2e0HKcb8d"
      },
      "execution_count": null,
      "outputs": []
    },
    {
      "cell_type": "code",
      "source": [
        "import keras\n",
        "import pandas as pd\n",
        "import numpy as np\n",
        "from keras.models import Sequential\n",
        "from keras.layers import Dense, Activation\n",
        "from sklearn.model_selection import train_test_split\n",
        "from sklearn.preprocessing import LabelEncoder\n",
        "\n",
        "\n",
        "path_to_csv = '/content/gdrive/My Drive/breastcancer.csv'\n",
        "\n",
        "\n",
        "dataset = pd.read_csv(path_to_csv)\n",
        "\n",
        "\n",
        "print(dataset.head())\n",
        "\n",
        "if 'id' in dataset.columns:\n",
        "    dataset = dataset.drop(columns=['id'])\n",
        "\n",
        "label_encoder = LabelEncoder()\n",
        "dataset['diagnosis'] = label_encoder.fit_transform(dataset['diagnosis'])\n",
        "\n",
        "X = dataset.iloc[:, 1:].values\n",
        "Y = dataset['diagnosis'].values\n",
        "\n",
        "X_train, X_test, Y_train, Y_test = train_test_split(X, Y, test_size=0.25, random_state=87)\n",
        "\n",
        "np.random.seed(155)\n",
        "\n",
        "my_first_nn = Sequential()\n",
        "\n",
        "my_first_nn.add(Dense(20, input_dim=X_train.shape[1], activation='relu'))\n",
        "my_first_nn.add(Dense(15, activation='relu'))\n",
        "my_first_nn.add(Dense(10, activation='relu'))\n",
        "\n",
        "\n",
        "my_first_nn.add(Dense(1, activation='sigmoid'))\n",
        "\n",
        "my_first_nn.compile(loss='binary_crossentropy', optimizer='adam', metrics=['acc'])\n",
        "\n",
        "my_first_nn_fitted = my_first_nn.fit(X_train, Y_train, epochs=100, initial_epoch=0)\n",
        "\n",
        "print(my_first_nn.summary())\n",
        "\n",
        "accuracy = my_first_nn.evaluate(X_test, Y_test)\n",
        "print(f\"Accuracy of the model: {accuracy[1] * 100:.2f}%\")\n",
        "\n",
        "\n"
      ],
      "metadata": {
        "id": "CVjRk0ejeIDj"
      },
      "execution_count": null,
      "outputs": []
    },
    {
      "cell_type": "code",
      "source": [
        "import keras\n",
        "import pandas as pd\n",
        "import numpy as np\n",
        "from keras.models import Sequential\n",
        "from keras.layers import Dense, Activation\n",
        "from sklearn.model_selection import train_test_split\n",
        "from sklearn.preprocessing import LabelEncoder, StandardScaler\n",
        "\n",
        "path_to_csv = '/content/gdrive/My Drive/breastcancer.csv'\n",
        "\n",
        "dataset = pd.read_csv(path_to_csv)\n",
        "print(dataset.head())\n",
        "\n",
        "if 'id' in dataset.columns:\n",
        "    dataset = dataset.drop(columns=['id'])\n",
        "\n",
        "label_encoder = LabelEncoder()\n",
        "dataset['diagnosis'] = label_encoder.fit_transform(dataset['diagnosis'])\n",
        "\n",
        "X = dataset.iloc[:, 1:].values\n",
        "Y = dataset['diagnosis'].values\n",
        "\n",
        "sc = StandardScaler()\n",
        "X = sc.fit_transform(X)\n",
        "\n",
        "X_train, X_test, Y_train, Y_test = train_test_split(X, Y, test_size=0.25, random_state=87)\n",
        "\n",
        "np.random.seed(155)\n",
        "\n",
        "my_first_nn = Sequential()\n",
        "my_first_nn.add(Dense(20, input_dim=X_train.shape[1], activation='relu'))\n",
        "my_first_nn.add(Dense(15, activation='relu'))\n",
        "my_first_nn.add(Dense(10, activation='relu'))\n",
        "my_first_nn.add(Dense(1, activation='sigmoid'))\n",
        "\n",
        "my_first_nn.compile(loss='binary_crossentropy', optimizer='adam', metrics=['acc'])\n",
        "\n",
        "my_first_nn_fitted = my_first_nn.fit(X_train, Y_train, epochs=100, initial_epoch=0)\n",
        "\n",
        "print(my_first_nn.summary())\n",
        "\n",
        "accuracy = my_first_nn.evaluate(X_test, Y_test)\n",
        "print(f\"Accuracy of the model with normalization: {accuracy[1] * 100:.2f}%\")\n"
      ],
      "metadata": {
        "id": "nfoSm93Vv9R4"
      },
      "execution_count": null,
      "outputs": []
    }
  ]
}